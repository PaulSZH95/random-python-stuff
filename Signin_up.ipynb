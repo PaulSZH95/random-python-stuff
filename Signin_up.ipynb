{
 "cells": [
  {
   "cell_type": "code",
   "execution_count": 31,
   "metadata": {},
   "outputs": [],
   "source": [
    "# src: https://www.geeksforgeeks.org/fernet-symmetric-encryption-using-cryptography-module-in-python/\n",
    "from cryptography.fernet import Fernet as fr\n",
    "import pandas as pd\n",
    "from getpass import getpass as gp"
   ]
  },
  {
   "cell_type": "raw",
   "metadata": {},
   "source": [
    "# run once and never run again\n",
    "pwd_key = fr.generate_key()\n",
    "user_key = fr.generate_key()\n",
    "with open('securekey.txt','wb') as secure:\n",
    "    secure.write(pwd_key)\n",
    "    secure.write('\\n'.encode())\n",
    "    secure.write(user_key)\n",
    "    \n",
    "print(pwd_key,user_key)"
   ]
  },
  {
   "cell_type": "code",
   "execution_count": 2,
   "metadata": {},
   "outputs": [],
   "source": [
    "with open('securekey.txt','rb') as secure:\n",
    "    keys = [i.strip() for i in secure]\n",
    "    pwd_key = keys[0]\n",
    "    usr_key = keys[1]\n",
    "print(pwd_key,usr_key)"
   ]
  },
  {
   "cell_type": "code",
   "execution_count": 3,
   "metadata": {},
   "outputs": [],
   "source": [
    "def S_encoder(var, encoder, txtfile): # self written encoder function.\n",
    "# variable can be username or password\n",
    "# encoder will be either spec_u_enc or spec_p_enc\n",
    "# txtfile will be either user.txt to store username or pwd,txt to store pwd\n",
    "    enc = encoder.encrypt(var.encode())\n",
    "    with open(txtfile, 'ab') as txt:\n",
    "        txt.write(enc)\n",
    "        txt.write('\\n'.encode())\n",
    "\n",
    "def S_decode(spec_enc, txtfile):\n",
    "    with open(txtfile,'rb') as txt:\n",
    "        li = [spec_enc.decrypt(i).decode() for i in txt]\n",
    "        return li"
   ]
  },
  {
   "cell_type": "code",
   "execution_count": 35,
   "metadata": {},
   "outputs": [
    {
     "name": "stdout",
     "output_type": "stream",
     "text": [
      "enter 0 for sign up and 1 for sign in l\n",
      "no action taken as action input of l is invalid\n",
      "enter 0 for sign up and 1 for sign in 1\n",
      "your username: lll\n",
      "your password········\n",
      "welcome back\n"
     ]
    }
   ],
   "source": [
    "spec_p_enc = fr(pwd_key) # specialised encoder using pwd_key for pwd\n",
    "spec_u_enc = fr(usr_key)# specialised encoder using usr_key for usr\n",
    "checker = input('enter 0 for sign up and 1 for sign in ')\n",
    "li = [str(0),str(1)]\n",
    "while checker not in li:\n",
    "    print(f'no action taken as action input of {checker} is invalid')\n",
    "    checker = input('enter 0 for sign up and 1 for sign in ')\n",
    "checker = int(checker)\n",
    "if checker == 0:\n",
    "    # sign up function\n",
    "    user = input('your username: ')\n",
    "    password = gp(prompt='your password')\n",
    "    repwd = gp(prompt='re enter your password')\n",
    "    while password != repwd:\n",
    "        print('\\nyour passwords do not match\\n')\n",
    "        password = gp(prompt='your password')\n",
    "        repwd = gp(prompt='re enter your password')\n",
    "    try:\n",
    "        reg = ''\n",
    "        li = S_decode(spec_u_enc, 'user.txt')\n",
    "        while reg != True:\n",
    "            if user not in li:\n",
    "                S_encoder(user, spec_u_enc, 'user.txt')\n",
    "                S_encoder(password, spec_p_enc, 'pwd.txt')\n",
    "                reg = True\n",
    "            else:\n",
    "                print('this username is taken')\n",
    "                user = input('a new username: ')\n",
    "    except:\n",
    "        S_encoder(user, spec_u_enc, 'user.txt')\n",
    "        S_encoder(password, spec_p_enc, 'pwd.txt')\n",
    "    proceed = 0\n",
    "    \n",
    "#####################################################################################################################\n",
    "elif checker == 1:\n",
    "    user = input('your username: ')\n",
    "    password = gp(prompt='your password')\n",
    "    li = S_decode(spec_u_enc, 'user.txt')\n",
    "    while user not in li:\n",
    "        print('wrong username ')\n",
    "        user = input('your username: ')\n",
    "    pi = S_decode(spec_p_enc, 'pwd.txt')\n",
    "    while password != pi[li.index(user)]:\n",
    "        print('wrong password')\n",
    "        password = gp(prompt='your password')\n",
    "    print('welcome back')\n",
    "    proceed = 1\n",
    "###########################################################################################################    \n",
    "else:\n",
    "    print('your input neither 0 nor 1 ')\n",
    "    proceed = 0"
   ]
  },
  {
   "cell_type": "code",
   "execution_count": 13,
   "metadata": {},
   "outputs": [
    {
     "data": {
      "text/plain": [
       "0"
      ]
     },
     "execution_count": 13,
     "metadata": {},
     "output_type": "execute_result"
    }
   ],
   "source": [
    "proceed"
   ]
  },
  {
   "cell_type": "code",
   "execution_count": 28,
   "metadata": {},
   "outputs": [
    {
     "name": "stdout",
     "output_type": "stream",
     "text": [
      "You have an existing budgeting file available\n",
      "0 to update, 1 to read, 2 creating new file, 3 for others3\n",
      "please email administrator for your request at thisemailisfake@fake.fakekekeke\n"
     ]
    }
   ],
   "source": [
    "if proceed == 1:\n",
    "    \n",
    "    csvFile = user + '.csv'\n",
    "    \n",
    "    try:\n",
    "        with open(csvFile,'r') as csv:\n",
    "            file_exists = 1\n",
    "    except:\n",
    "        file_exists = 0\n",
    "    \n",
    "    if file_exists == 0:\n",
    "        print('You do not have any budgeting file available')\n",
    "        action = input('0 to create new, 3 for others')\n",
    "    elif file_exists == 1:\n",
    "        print('You have an existing budgeting file available')\n",
    "        action = input('0 to update, 1 to read, 2 creating new file, 3 for others')\n",
    "    li = [str(0),str(1),str(2),str(3)]\n",
    "    while action not in li:\n",
    "        print(f'no action taken as action input of {action} is invalid')\n",
    "        action = input('enter 0 to update budgeting file, 1 to create new, 2 to read')\n",
    "    action = int(action)\n",
    "    \n",
    "    if action == 0 or action == 2:\n",
    "        try:\n",
    "            head = pd.read_csv(csvFile).columns\n",
    "        except:\n",
    "            head = [input(f'what is the heading for column {i}') for i in range(int(input('number of column headings required ')))]\n",
    "            with open(csvFile , 'w') as csv:\n",
    "                csv.write(','.join(head))\n",
    "                csv.write('\\n')\n",
    "                \n",
    "        if action == 2:\n",
    "            head = [input(f'what is the heading for column {i}') for i in range(int(input('number of column headings required ')))]\n",
    "            with open(csvFile , 'w') as csv:\n",
    "                csv.write(','.join(head))\n",
    "                csv.write('\\n')\n",
    "        \n",
    "\n",
    "        with open(csvFile,'a') as csv:\n",
    "            row = 1\n",
    "            control = input(f'would you like to update {row} row of data into budget? y/n for yes no')\n",
    "            while control.lower()[0] =='y':\n",
    "                data = [input(f'data for column {i} ?') for i in head]\n",
    "                csv.write(','.join(data))\n",
    "                csv.write('\\n')\n",
    "                row += 1\n",
    "                control = input(f'would you like to continue updating {row} row of data into budget? y/n for yes no')\n",
    "    elif action == 1:\n",
    "        df = pd.read_csv(csvFile)\n",
    "        print(df)\n",
    "    elif action == 3:\n",
    "        print('please email administrator for your request at thisemailisfake@fake.fakekekeke')"
   ]
  },
  {
   "cell_type": "code",
   "execution_count": null,
   "metadata": {},
   "outputs": [],
   "source": []
  }
 ],
 "metadata": {
  "kernelspec": {
   "display_name": "Python 3",
   "language": "python",
   "name": "python3"
  },
  "language_info": {
   "codemirror_mode": {
    "name": "ipython",
    "version": 3
   },
   "file_extension": ".py",
   "mimetype": "text/x-python",
   "name": "python",
   "nbconvert_exporter": "python",
   "pygments_lexer": "ipython3",
   "version": "3.8.5"
  }
 },
 "nbformat": 4,
 "nbformat_minor": 4
}
