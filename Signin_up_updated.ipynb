{
 "cells": [
  {
   "cell_type": "code",
   "execution_count": 1,
   "metadata": {},
   "outputs": [],
   "source": [
    "# src: https://www.geeksforgeeks.org/fernet-symmetric-encryption-using-cryptography-module-in-python/\n",
    "from cryptography.fernet import Fernet as fr\n",
    "import pandas as pd\n",
    "from getpass import getpass as gp"
   ]
  },
  {
   "cell_type": "raw",
   "metadata": {},
   "source": [
    "# run once and never run again\n",
    "pwd_key = fr.generate_key()\n",
    "user_key = fr.generate_key()\n",
    "with open('securekey.txt','wb') as secure:\n",
    "    secure.write(pwd_key)\n",
    "    secure.write('\\n'.encode())\n",
    "    secure.write(user_key)\n",
    "    \n",
    "print(pwd_key,user_key)"
   ]
  },
  {
   "cell_type": "code",
   "execution_count": 2,
   "metadata": {},
   "outputs": [
    {
     "name": "stdout",
     "output_type": "stream",
     "text": [
      "b'lVqK1Z97YksdG03JY8o0y3z9kKygyH8vob-QN0wxKkw=' b'Wj-8hNy59EyapiBqKLQqVKe3JsbFYnY9jqas8e-q8F8='\n"
     ]
    }
   ],
   "source": [
    "with open('securekey.txt','rb') as secure:\n",
    "    keys = [i.strip() for i in secure]\n",
    "    pwd_key = keys[0]\n",
    "    usr_key = keys[1]\n",
    "print(pwd_key,usr_key)"
   ]
  },
  {
   "cell_type": "code",
   "execution_count": 3,
   "metadata": {},
   "outputs": [],
   "source": [
    "def S_encoder(var, encoder, txtfile): # self written encoder function.\n",
    "# variable can be username or password\n",
    "# encoder will be either spec_u_enc or spec_p_enc\n",
    "# txtfile will be either user.txt to store username or pwd,txt to store pwd\n",
    "    enc = encoder.encrypt(var.encode())\n",
    "    with open(txtfile, 'ab') as txt:\n",
    "        txt.write(enc)\n",
    "        txt.write('\\n'.encode())\n",
    "\n",
    "def S_decode(spec_enc, txtfile):\n",
    "    with open(txtfile,'rb') as txt:\n",
    "        li = [spec_enc.decrypt(i).decode() for i in txt]\n",
    "        return li"
   ]
  },
  {
   "cell_type": "code",
   "execution_count": 22,
   "metadata": {},
   "outputs": [],
   "source": [
    "def update(user_files):\n",
    "    \n",
    "    if type(user_files) == str:\n",
    "        csvFile = user_files\n",
    "    else:\n",
    "        csvFile = input(f'while of the following file {user_files} would u like to update? ')    \n",
    "        while csvFile not in user_files:    \n",
    "            csvFile = input(f'wrong input, select file from {user_files} ')\n",
    "    import pandas as pd\n",
    "    head = list(pd.read_csv(csvFile).columns)\n",
    "    with open(csvFile,'a') as csv:\n",
    "        row = 1\n",
    "        control = input(f'would you like to update {row} row of data into budget? y/n for yes no')\n",
    "        while control.lower()[0] =='y':\n",
    "            data = [input(f'data for column {i} ?') for i in head]\n",
    "            csv.write(','.join(data))\n",
    "            csv.write('\\n')\n",
    "            row += 1\n",
    "            control = input(f'would you like to continue updating {row} row of data into budget? y/n for yes no')\n",
    "\n",
    "def read(user_files):\n",
    "    import pandas as pd\n",
    "    \n",
    "    csvFile = input(f'while of the following file {user_files} would u like to read? ')\n",
    "    while csvFile not in user_files:\n",
    "        csvFile = input(f'wrong input, select file from {user_files} ')\n",
    "    df = pd.read_csv(csvFile)\n",
    "    return df\n",
    "\n",
    "def create_empty_file(csvFile):\n",
    "    head = [input(f'what is the heading for column {i}') for i in range(int(input('number of column headings required ')))]\n",
    "    with open(csvFile , 'w') as csv:\n",
    "        csv.write(','.join(head))\n",
    "        csv.write('\\n')\n",
    "    print(f'{csvFile} created')"
   ]
  },
  {
   "cell_type": "code",
   "execution_count": 20,
   "metadata": {
    "scrolled": true
   },
   "outputs": [
    {
     "name": "stdout",
     "output_type": "stream",
     "text": [
      "enter 0 for sign up and 1 for sign in 1\n",
      "your username: jok\n",
      "your password········\n",
      "welcome back\n"
     ]
    }
   ],
   "source": [
    "spec_p_enc = fr(pwd_key) # specialised encoder using pwd_key for pwd\n",
    "spec_u_enc = fr(usr_key)# specialised encoder using usr_key for usr\n",
    "checker = input('enter 0 for sign up and 1 for sign in ')\n",
    "li = [str(0),str(1)]\n",
    "while checker not in li:\n",
    "    print(f'no action taken as action input of {checker} is invalid')\n",
    "    checker = input('enter 0 for sign up and 1 for sign in ')\n",
    "checker = int(checker)\n",
    "if checker == 0:\n",
    "    # sign up function\n",
    "    user = input('your username: ')\n",
    "    password = gp(prompt='your password')\n",
    "    repwd = gp(prompt='re enter your password')\n",
    "    while password != repwd:\n",
    "        print('\\nyour passwords do not match\\n')\n",
    "        password = gp(prompt='your password')\n",
    "        repwd = gp(prompt='re enter your password')\n",
    "    try:\n",
    "        reg = ''\n",
    "        li = S_decode(spec_u_enc, 'user.txt')\n",
    "        while reg != True:\n",
    "            if user not in li:\n",
    "                S_encoder(user, spec_u_enc, 'user.txt')\n",
    "                S_encoder(password, spec_p_enc, 'pwd.txt')\n",
    "                reg = True\n",
    "            else:\n",
    "                print('this username is taken')\n",
    "                user = input('a new username: ')\n",
    "    except:\n",
    "        S_encoder(user, spec_u_enc, 'user.txt')\n",
    "        S_encoder(password, spec_p_enc, 'pwd.txt')\n",
    "    proceed = 0\n",
    "    \n",
    "#####################################################################################################################\n",
    "elif checker == 1:\n",
    "    user = input('your username: ')\n",
    "    password = gp(prompt='your password')\n",
    "    li = S_decode(spec_u_enc, 'user.txt')\n",
    "    while user not in li:\n",
    "        print('wrong username ')\n",
    "        user = input('your username: ')\n",
    "    pi = S_decode(spec_p_enc, 'pwd.txt')\n",
    "    while password != pi[li.index(user)]:\n",
    "        print('wrong password')\n",
    "        password = gp(prompt='your password')\n",
    "    print('welcome back')\n",
    "    proceed = 1\n",
    "###########################################################################################################    \n",
    "else:\n",
    "    print('your input neither 0 nor 1 ')\n",
    "    proceed = 0"
   ]
  },
  {
   "cell_type": "code",
   "execution_count": 32,
   "metadata": {
    "scrolled": false
   },
   "outputs": [
    {
     "name": "stdout",
     "output_type": "stream",
     "text": [
      "You have these files ['jok_jok.csv'] available\n",
      "0 to update, 1 to read, 2 add new file, 3 delete existing files, 4 others4\n",
      "please email administrator for your request at thisemailisfake@fake.fakekekeke\n"
     ]
    }
   ],
   "source": [
    "import os\n",
    "if proceed == 1:\n",
    "    \n",
    "    with open('file_names.txt','r') as fn:\n",
    "        files = [i.strip() for i in fn]\n",
    "    \n",
    "    user_files = [i for i in files if user in i]\n",
    "    \n",
    "    if len(user_files) > 0:\n",
    "        file_exists = 1\n",
    "    else:\n",
    "        file_exists = 0\n",
    "    \n",
    "    if file_exists == 0:\n",
    "        print('You do not have any files available')\n",
    "        action = input('2 to create new, 4 for others')\n",
    "    elif file_exists == 1:\n",
    "        print(f'You have these files {user_files} available')\n",
    "        action = input('0 to update, 1 to read, 2 add new file, 3 delete existing files, 4 others')\n",
    "    li = [str(0),str(1),str(2),str(3),str(4)]\n",
    "    while action not in li:\n",
    "        print(f'no action taken as action input of {action} is invalid')\n",
    "        action = input('enter 0 to update budgeting file, 1 to create new, 2 to read')\n",
    "    action = int(action)\n",
    "    \n",
    "    if action == 0:\n",
    "        update(user_files)\n",
    "    elif action == 1:\n",
    "        while action == 1:\n",
    "            df = read(user_files)\n",
    "            print(df)\n",
    "            checker = input('enter 0 to read other files 1 to end')\n",
    "            while checker not in [str(0),str(1)]:\n",
    "                checker = input('ONLY ENTER 0 for read other files and 1 to end')\n",
    "            if checker == '1':\n",
    "                action = 'end'\n",
    "        action = 1\n",
    "    elif action == 2:\n",
    "        csvFile = input('enter a file name ')\n",
    "        csvFile = csvFile.replace(' ','_').replace('.','_')\n",
    "        csvFile = user + '_' + csvFile + '.csv'\n",
    "        create_empty_file(csvFile)\n",
    "        update(csvFile)\n",
    "        \n",
    "        with open('file_names.txt','w') as fn:\n",
    "            files.append(csvFile)\n",
    "            if len(files) == 1:\n",
    "                fn.write(f'{files[0]}\\n')\n",
    "            else:\n",
    "                fn.write('\\n'.join(files))\n",
    "                \n",
    "    elif action == 3:\n",
    "        csvFile = input(f'which of the following file {user_files} would u like to delete? ')    \n",
    "        while csvFile not in user_files:    \n",
    "            csvFile = input(f'wrong input, select file from {user_files} to delete')\n",
    "        with open('file_names.txt','w') as fn:\n",
    "            files.pop(files.index(csvFile))\n",
    "            if len(files) == 1:\n",
    "                fn.write(f'{files[0]}\\n')\n",
    "            else:\n",
    "                fn.write('\\n'.join(files))\n",
    "        os.remove(csvFile)\n",
    "        print('file removed')\n",
    "    elif action == 4:\n",
    "        print('please email administrator for your request at thisemailisfake@fake.fakekekeke')"
   ]
  },
  {
   "cell_type": "code",
   "execution_count": null,
   "metadata": {},
   "outputs": [],
   "source": [
    "# conduct datascience or exploration on the created csv files."
   ]
  }
 ],
 "metadata": {
  "kernelspec": {
   "display_name": "Python 3",
   "language": "python",
   "name": "python3"
  },
  "language_info": {
   "codemirror_mode": {
    "name": "ipython",
    "version": 3
   },
   "file_extension": ".py",
   "mimetype": "text/x-python",
   "name": "python",
   "nbconvert_exporter": "python",
   "pygments_lexer": "ipython3",
   "version": "3.8.5"
  }
 },
 "nbformat": 4,
 "nbformat_minor": 4
}
